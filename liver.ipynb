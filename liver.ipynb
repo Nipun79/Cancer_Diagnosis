{
 "cells": [
  {
   "cell_type": "code",
   "execution_count": 33,
   "id": "common-pitch",
   "metadata": {},
   "outputs": [],
   "source": [
    "import numpy as np\n",
    "import pandas as pd\n",
    "import matplotlib.pyplot as plt\n",
    "from sklearn.ensemble import RandomForestClassifier\n",
    "from sklearn.preprocessing import StandardScaler\n",
    "from sklearn.model_selection import train_test_split\n",
    "from sklearn.model_selection import KFold\n",
    "from sklearn.model_selection import cross_val_score"
   ]
  },
  {
   "cell_type": "code",
   "execution_count": 16,
   "id": "marked-detector",
   "metadata": {},
   "outputs": [],
   "source": [
    "data = pd.read_csv('indian_liver_patient.csv')"
   ]
  },
  {
   "cell_type": "code",
   "execution_count": 18,
   "id": "chinese-operator",
   "metadata": {},
   "outputs": [],
   "source": [
    "data['Albumin_and_Globulin_Ratio'] = data['Albumin_and_Globulin_Ratio'].fillna(data['Albumin_and_Globulin_Ratio'].mean())"
   ]
  },
  {
   "cell_type": "code",
   "execution_count": null,
   "id": "worth-calculation",
   "metadata": {},
   "outputs": [],
   "source": [
    "def binary_encode(df, column, positive_value):\n",
    "    df = df.copy()\n",
    "    df[column] = df[column].apply(lambda x: 1 if x == positive_value else 0)\n",
    "    return df"
   ]
  },
  {
   "cell_type": "code",
   "execution_count": 5,
   "id": "corrected-sherman",
   "metadata": {},
   "outputs": [],
   "source": [
    "data = binary_encode(data, 'Gender', 'Male')\n",
    "data = binary_encode(data, 'Dataset', 1)"
   ]
  },
  {
   "cell_type": "code",
   "execution_count": 6,
   "id": "generic-might",
   "metadata": {},
   "outputs": [
    {
     "output_type": "stream",
     "name": "stdout",
     "text": [
      "<class 'pandas.core.frame.DataFrame'>\nRangeIndex: 583 entries, 0 to 582\nData columns (total 11 columns):\n #   Column                      Non-Null Count  Dtype  \n---  ------                      --------------  -----  \n 0   Age                         583 non-null    int64  \n 1   Gender                      583 non-null    int64  \n 2   Total_Bilirubin             583 non-null    float64\n 3   Direct_Bilirubin            583 non-null    float64\n 4   Alkaline_Phosphotase        583 non-null    int64  \n 5   Alamine_Aminotransferase    583 non-null    int64  \n 6   Aspartate_Aminotransferase  583 non-null    int64  \n 7   Total_Protiens              583 non-null    float64\n 8   Albumin                     583 non-null    float64\n 9   Albumin_and_Globulin_Ratio  583 non-null    float64\n 10  Dataset                     583 non-null    int64  \ndtypes: float64(5), int64(6)\nmemory usage: 50.2 KB\n"
     ]
    }
   ],
   "source": [
    "data.info()"
   ]
  },
  {
   "cell_type": "code",
   "execution_count": 7,
   "id": "material-trademark",
   "metadata": {},
   "outputs": [],
   "source": [
    "y = data['Dataset']\n",
    "X = data.drop('Dataset', axis=1)"
   ]
  },
  {
   "cell_type": "code",
   "execution_count": null,
   "id": "cathedral-papua",
   "metadata": {},
   "outputs": [],
   "source": []
  },
  {
   "cell_type": "code",
   "execution_count": 8,
   "id": "floating-madonna",
   "metadata": {},
   "outputs": [],
   "source": [
    "X_train,X_test,y_train,y_test=train_test_split(X, y, test_size = 0.3, random_state = 9)\n",
    "sc = StandardScaler()\n",
    "X_train = sc.fit_transform(X_train)\n",
    "X_test = sc.transform(X_test)"
   ]
  },
  {
   "cell_type": "code",
   "execution_count": 9,
   "id": "honey-scene",
   "metadata": {},
   "outputs": [],
   "source": [
    "def models(X_train,y_train):\n",
    "  #Using DecisionTreeClassifier \n",
    "  from sklearn.tree import DecisionTreeClassifier\n",
    "  tree = DecisionTreeClassifier( random_state = 9)\n",
    "  tree.fit(X_train, y_train)\n",
    "    \n",
    "   #Using RandomForestClassifier method of ensemble class to use Random Forest Classification algorithm\n",
    "  from sklearn.ensemble import RandomForestClassifier\n",
    "  forest = RandomForestClassifier(n_estimators = 10, random_state = 9)\n",
    "  forest.fit(X_train, y_train)\n",
    "    \n",
    "  #Using Logistic Regression \n",
    "\n",
    "  from sklearn.linear_model import LogisticRegression\n",
    "  logistic = LogisticRegression(random_state = 9)\n",
    "  logistic.fit(X_train, y_train)\n",
    "\n",
    "  #Using SVC rbf\n",
    "  from sklearn.svm import SVC\n",
    "  svc_lin = SVC(kernel = 'linear', random_state = 9)\n",
    "  svc_lin.fit(X_train, y_train)\n",
    "    \n",
    "  #Using KNeighborsClassifier \n",
    "  from sklearn.neighbors import KNeighborsClassifier\n",
    "  knn = KNeighborsClassifier(n_neighbors = 5, metric = 'minkowski', p = 2)\n",
    "  knn.fit(X_train, y_train)\n",
    "\n",
    "  #Using SVC rbf\n",
    "  from sklearn.svm import SVC\n",
    "  svc_rbf = SVC(kernel = 'rbf', random_state = 9)\n",
    "  svc_rbf.fit(X_train, y_train)\n",
    "\n",
    "  #Using GaussianNB \n",
    "  from sklearn.naive_bayes import GaussianNB\n",
    "  gauss = GaussianNB()\n",
    "  gauss.fit(X_train, y_train)\n",
    " \n",
    "  \n",
    "\n",
    "\n",
    "  \n",
    "  #print model accuracy on the training data.\n",
    "  print('[0]Decision Tree Classifier Training Accuracy:', tree.score(X_test, y_test))\n",
    "  print('[1]Support Vector Machine (Linear Classifier) Training Accuracy:', svc_lin.score(X_test, y_test))\n",
    "  print('[2]K Nearest Neighbor Training Accuracy:', knn.score(X_test, y_test))\n",
    "  print('[3]Support Vector Machine (RBF Classifier) Training Accuracy:', svc_rbf.score(X_test, y_test))\n",
    "  print('[4]Gaussian Naive Bayes Training Accuracy:', gauss.score(X_test, y_test))\n",
    "  print('[5]Logistic Regression Training Accuracy:', logistic.score(X_test, y_test))\n",
    "  print('[6]Random Forest Classifier Training Accuracy:', forest.score(X_test, y_test))\n",
    "\n",
    "  return tree,svc_lin,knn, svc_rbf, gauss,logistic, forest"
   ]
  },
  {
   "cell_type": "code",
   "execution_count": 10,
   "id": "prepared-attendance",
   "metadata": {},
   "outputs": [
    {
     "output_type": "stream",
     "name": "stdout",
     "text": [
      "[0]Decision Tree Classifier Training Accuracy: 0.6628571428571428\n[1]Support Vector Machine (Linear Classifier) Training Accuracy: 0.7142857142857143\n[2]K Nearest Neighbor Training Accuracy: 0.6514285714285715\n[3]Support Vector Machine (RBF Classifier) Training Accuracy: 0.7142857142857143\n[4]Gaussian Naive Bayes Training Accuracy: 0.5828571428571429\n[5]Logistic Regression Training Accuracy: 0.6971428571428572\n[6]Random Forest Classifier Training Accuracy: 0.6971428571428572\n"
     ]
    }
   ],
   "source": [
    "model = models(X_train,y_train)"
   ]
  },
  {
   "cell_type": "code",
   "execution_count": 11,
   "id": "registered-bolivia",
   "metadata": {},
   "outputs": [
    {
     "output_type": "execute_result",
     "data": {
      "text/plain": [
       "0.6971428571428572"
      ]
     },
     "metadata": {},
     "execution_count": 11
    }
   ],
   "source": [
    "from sklearn.linear_model import LogisticRegression\n",
    "logistic = LogisticRegression(random_state = 9)\n",
    "logistic.fit(X_train, y_train)\n",
    "logistic.score(X_test,y_test)"
   ]
  },
  {
   "cell_type": "code",
   "execution_count": 12,
   "id": "tender-hollow",
   "metadata": {},
   "outputs": [],
   "source": [
    "param_grid = [    \n",
    "    {'penalty' : ['l1', 'l2', 'elasticnet'],\n",
    "    'C' : np.logspace(-4, 4, 20),\n",
    "    'solver' : ['lbfgs','newton-cg','liblinear','sag','saga'],\n",
    "    'max_iter' : [100, 1000,2500, 5000]\n",
    "    }\n",
    "]"
   ]
  },
  {
   "cell_type": "code",
   "execution_count": 13,
   "id": "nearby-waters",
   "metadata": {},
   "outputs": [
    {
     "output_type": "stream",
     "name": "stdout",
     "text": [
      "Fitting 10 folds for each of 1200 candidates, totalling 12000 fits\n",
      "C:\\Users\\Administrator\\AppData\\Local\\Programs\\Python\\Python38\\lib\\site-packages\\sklearn\\model_selection\\_search.py:918: UserWarning: One or more of the test scores are non-finite: [       nan        nan 0.28670732 ...        nan        nan        nan]\n",
      "  warnings.warn(\n"
     ]
    }
   ],
   "source": [
    "np.random.seed(9)\n",
    "from sklearn.model_selection import GridSearchCV\n",
    "clf = GridSearchCV(logistic, param_grid = param_grid, cv = 10, verbose=True, n_jobs=-1)\n",
    "best_clf = clf.fit(X_train, y_train)"
   ]
  },
  {
   "cell_type": "code",
   "execution_count": 38,
   "id": "honest-boulder",
   "metadata": {},
   "outputs": [
    {
     "output_type": "execute_result",
     "data": {
      "text/plain": [
       "0.7450980392156863"
      ]
     },
     "metadata": {},
     "execution_count": 38
    }
   ],
   "source": [
    "best_clf.best_estimator_.score(X_train,y_train)"
   ]
  },
  {
   "cell_type": "code",
   "execution_count": 24,
   "id": "accepting-indian",
   "metadata": {},
   "outputs": [
    {
     "output_type": "stream",
     "name": "stdout",
     "text": [
      "Accuracy - : 0.745\n"
     ]
    }
   ],
   "source": [
    "print (f'Accuracy - : {best_clf.score(X_train,y_train):.3f}')"
   ]
  },
  {
   "cell_type": "code",
   "execution_count": 36,
   "id": "adjustable-prefix",
   "metadata": {},
   "outputs": [
    {
     "output_type": "stream",
     "name": "stdout",
     "text": [
      "RFS:, 0.718088, (0.079939)\n",
      "LR:, 0.730441, (0.073689)\n",
      "SVM:, 0.708382, (0.039333)\n"
     ]
    }
   ],
   "source": [
    "#Cross -valuation scores\n",
    "models=[]\n",
    "from sklearn.svm import SVC\n",
    "models.append(('RFS', RandomForestClassifier()))\n",
    "models.append(('LR', LogisticRegression()))\n",
    "models.append(('SVM', SVC()))\n",
    "results =[]\n",
    "names=[]\n",
    "for name , model in models:\n",
    "    kfold=KFold(n_splits=25)\n",
    "    cv_results= cross_val_score(model, X_train, y_train, cv=25,scoring='accuracy')\n",
    "    results.append(cv_results)\n",
    "    names.append(name)\n",
    "    \n",
    "    msg= '%s:, %f, (%f)' % (name, cv_results.mean(), cv_results.std())\n",
    "    print(msg)"
   ]
  },
  {
   "cell_type": "code",
   "execution_count": 39,
   "id": "nearby-differential",
   "metadata": {},
   "outputs": [
    {
     "output_type": "execute_result",
     "data": {
      "text/plain": [
       "LogisticRegression(C=4.281332398719396, penalty='l1', random_state=9,\n",
       "                   solver='liblinear')"
      ]
     },
     "metadata": {},
     "execution_count": 39
    }
   ],
   "source": [
    "\n"
   ]
  },
  {
   "cell_type": "code",
   "execution_count": 26,
   "id": "attended-layer",
   "metadata": {},
   "outputs": [
    {
     "output_type": "execute_result",
     "data": {
      "text/plain": [
       "317    1\n",
       "98     1\n",
       "39     1\n",
       "40     1\n",
       "356    1\n",
       "      ..\n",
       "223    0\n",
       "51     1\n",
       "181    1\n",
       "122    0\n",
       "316    0\n",
       "Name: Dataset, Length: 175, dtype: int64"
      ]
     },
     "metadata": {},
     "execution_count": 26
    }
   ],
   "source": [
    "y_test"
   ]
  },
  {
   "cell_type": "code",
   "execution_count": 40,
   "id": "personalized-madrid",
   "metadata": {},
   "outputs": [],
   "source": [
    "import pickle\n",
    "liver_saved_model=pickle.dump(best_clf.best_estimator_,open('liver_saved_model.pkl','wb'))"
   ]
  },
  {
   "cell_type": "code",
   "execution_count": 43,
   "id": "victorian-trash",
   "metadata": {},
   "outputs": [
    {
     "output_type": "execute_result",
     "data": {
      "text/plain": [
       "Index(['Age', 'Gender', 'Total_Bilirubin', 'Direct_Bilirubin',\n",
       "       'Alkaline_Phosphotase', 'Alamine_Aminotransferase',\n",
       "       'Aspartate_Aminotransferase', 'Total_Protiens', 'Albumin',\n",
       "       'Albumin_and_Globulin_Ratio', 'Dataset'],\n",
       "      dtype='object')"
      ]
     },
     "metadata": {},
     "execution_count": 43
    }
   ],
   "source": [
    "data.columns\n"
   ]
  },
  {
   "cell_type": "code",
   "execution_count": null,
   "id": "attractive-account",
   "metadata": {},
   "outputs": [],
   "source": []
  }
 ],
 "metadata": {
  "kernelspec": {
   "name": "python387jvsc74a57bd0004de6046f1b3d314f33fdb43a2dc798b2646e5600efd8df5066c8b63a00ff6d",
   "display_name": "Python 3.8.7 64-bit"
  },
  "language_info": {
   "codemirror_mode": {
    "name": "ipython",
    "version": 3
   },
   "file_extension": ".py",
   "mimetype": "text/x-python",
   "name": "python",
   "nbconvert_exporter": "python",
   "pygments_lexer": "ipython3",
   "version": "3.8.7"
  },
  "metadata": {
   "interpreter": {
    "hash": "004de6046f1b3d314f33fdb43a2dc798b2646e5600efd8df5066c8b63a00ff6d"
   }
  }
 },
 "nbformat": 4,
 "nbformat_minor": 5
}